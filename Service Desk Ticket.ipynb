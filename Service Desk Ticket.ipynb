{
 "cells": [
  {
   "cell_type": "code",
   "execution_count": 66,
   "metadata": {},
   "outputs": [],
   "source": [
    "# # List of libraries to check\n",
    "# libraries = [\n",
    "#     \"collections\", \"nltk\", \"json\", \"numpy\", \"pandas\", \n",
    "#     \"sklearn.model_selection\", \"torch\", \"torch.nn\", \n",
    "#     \"torch.nn.functional\", \"torch.utils.data\", \"torchmetrics\"\n",
    "# ]\n",
    "\n",
    "# # Function to check the availability of each library\n",
    "# def check_libraries(libraries):\n",
    "#     for lib in libraries:\n",
    "#         try:\n",
    "#             __import__(lib)\n",
    "#             print(f\"{lib} is installed.\")\n",
    "#         except ImportError:\n",
    "#             print(f\"{lib} is NOT installed.\")\n",
    "\n",
    "# check_libraries(libraries)\n"
   ]
  },
  {
   "cell_type": "code",
   "execution_count": 67,
   "metadata": {},
   "outputs": [],
   "source": [
    "# import nltk\n",
    "# from nltk.data import find\n",
    "\n",
    "# try:\n",
    "#     find('tokenizers/punkt')\n",
    "#     print(\"Punkt tokenizer is already installed.\")\n",
    "# except LookupError:\n",
    "#     print(\"Punkt tokenizer is not installed.\")\n"
   ]
  },
  {
   "cell_type": "code",
   "execution_count": 68,
   "metadata": {},
   "outputs": [],
   "source": [
    "# import json\n",
    "\n",
    "# # Load the list from words.json\n",
    "# with open('words.json') as f:\n",
    "#     word_list = json.load(f)\n",
    "\n",
    "# # Convert list to dictionary\n",
    "# vocabulary = {word: idx for idx, word in enumerate(word_list)}\n",
    "\n",
    "# # Save the dictionary back to words.json\n",
    "# with open('words.json', 'w') as f:\n",
    "#     json.dump(vocabulary, f, indent=4)\n",
    "\n",
    "# print(f\"Vocabulary type: {type(vocabulary)}\")  # Should be <class 'dict'>\n"
   ]
  },
  {
   "cell_type": "code",
   "execution_count": 69,
   "metadata": {},
   "outputs": [],
   "source": [
    "import torch\n",
    "import torch.nn as nn\n",
    "import torch.optim as optim\n",
    "import numpy as np\n",
    "import json\n",
    "from torch.utils.data import Dataset, DataLoader\n",
    "from sklearn.metrics import precision_score, recall_score, accuracy_score"
   ]
  },
  {
   "cell_type": "markdown",
   "metadata": {},
   "source": [
    "## Define the dataset class"
   ]
  },
  {
   "cell_type": "code",
   "execution_count": 70,
   "metadata": {},
   "outputs": [],
   "source": [
    "class TicketDataset(Dataset):\n",
    "    def __init__(self, text_file, label_file, word_file):\n",
    "        with open(text_file, 'r') as f:\n",
    "            self.texts = json.load(f)\n",
    "        self.labels = np.load(label_file)\n",
    "        with open(word_file, 'r') as f:\n",
    "            self.word_to_idx = json.load(f)\n",
    "        self.vocab_size = len(self.word_to_idx)\n",
    "        self.max_length = max(len(text) for text in self.texts)\n",
    "\n",
    "    def __len__(self):\n",
    "        return len(self.texts)\n",
    "\n",
    "    def __getitem__(self, idx):\n",
    "        text = self.texts[idx]\n",
    "        label = self.labels[idx]\n",
    "        # Convert words to indices\n",
    "        text_indices = [self.word_to_idx.get(word, 0) for word in text]\n",
    "        # Pad or truncate text\n",
    "        text_indices = text_indices[:self.max_length] + [0] * (self.max_length - len(text_indices))\n",
    "        return torch.tensor(text_indices, dtype=torch.long), torch.tensor(label, dtype=torch.long)"
   ]
  },
  {
   "cell_type": "markdown",
   "metadata": {},
   "source": [
    "## Load datasets"
   ]
  },
  {
   "cell_type": "code",
   "execution_count": 71,
   "metadata": {},
   "outputs": [],
   "source": [
    "train_dataset = TicketDataset('text.json', 'labels.npy', 'words.json')\n",
    "train_loader = DataLoader(train_dataset, batch_size=32, shuffle=True)\n",
    "\n",
    "test_dataset = TicketDataset('text.json', 'labels.npy', 'words.json')  \n",
    "test_loader = DataLoader(test_dataset, batch_size=32, shuffle=False)"
   ]
  },
  {
   "cell_type": "markdown",
   "metadata": {},
   "source": [
    "## Define the CNN model"
   ]
  },
  {
   "cell_type": "code",
   "execution_count": 72,
   "metadata": {},
   "outputs": [],
   "source": [
    "class CNNClassifier(nn.Module):\n",
    "    def __init__(self, vocab_size, embedding_dim=50, num_filters=64, filter_size=3, num_classes=5):\n",
    "        super(CNNClassifier, self).__init__()\n",
    "        self.embedding = nn.Embedding(vocab_size, embedding_dim)\n",
    "        self.conv1 = nn.Conv1d(in_channels=embedding_dim, out_channels=num_filters, kernel_size=filter_size)\n",
    "        self.pool = nn.AdaptiveMaxPool1d(1)\n",
    "        self.fc = nn.Linear(num_filters, num_classes)\n",
    "\n",
    "    def forward(self, x):\n",
    "        x = self.embedding(x)  # (batch_size, max_length) -> (batch_size, max_length, embedding_dim)\n",
    "        x = x.permute(0, 2, 1)  # (batch_size, max_length, embedding_dim) -> (batch_size, embedding_dim, max_length)\n",
    "        x = self.conv1(x)  # (batch_size, embedding_dim, max_length) -> (batch_size, num_filters, new_length)\n",
    "        x = self.pool(x)  # (batch_size, num_filters, new_length) -> (batch_size, num_filters, 1)\n",
    "        x = x.squeeze(-1)  # (batch_size, num_filters, 1) -> (batch_size, num_filters)\n",
    "        x = self.fc(x)  # (batch_size, num_filters) -> (batch_size, num_classes)\n",
    "        return x"
   ]
  },
  {
   "cell_type": "markdown",
   "metadata": {},
   "source": [
    "## Instantiate the model, criterion, and optimizer"
   ]
  },
  {
   "cell_type": "code",
   "execution_count": 73,
   "metadata": {},
   "outputs": [],
   "source": [
    "vocab_size = train_dataset.vocab_size\n",
    "num_classes = len(set(train_dataset.labels))  # Determine number of classes\n",
    "model = CNNClassifier(vocab_size=vocab_size, num_classes=num_classes)\n",
    "\n",
    "criterion = nn.CrossEntropyLoss()\n",
    "optimizer = optim.Adam(model.parameters(), lr=0.001)"
   ]
  },
  {
   "cell_type": "markdown",
   "metadata": {},
   "source": [
    "## Train the model"
   ]
  },
  {
   "cell_type": "code",
   "execution_count": 74,
   "metadata": {},
   "outputs": [
    {
     "name": "stdout",
     "output_type": "stream",
     "text": [
      "Epoch 1/3 completed\n",
      "Epoch 2/3 completed\n",
      "Epoch 3/3 completed\n"
     ]
    }
   ],
   "source": [
    "num_epochs = 3\n",
    "for epoch in range(num_epochs):\n",
    "    model.train()\n",
    "    for texts, labels in train_loader:\n",
    "        optimizer.zero_grad()\n",
    "        outputs = model(texts)\n",
    "        loss = criterion(outputs, labels)\n",
    "        loss.backward()\n",
    "        optimizer.step()\n",
    "    print(f'Epoch {epoch+1}/{num_epochs} completed')"
   ]
  },
  {
   "cell_type": "markdown",
   "metadata": {},
   "source": [
    "## Test the model"
   ]
  },
  {
   "cell_type": "code",
   "execution_count": 75,
   "metadata": {},
   "outputs": [],
   "source": [
    "model.eval()\n",
    "predictions = []\n",
    "true_labels = []\n",
    "with torch.no_grad():\n",
    "    for texts, labels in test_loader:\n",
    "        outputs = model(texts)\n",
    "        _, predicted = torch.max(outputs, 1)\n",
    "        predictions.extend(predicted.cpu().numpy())\n",
    "        true_labels.extend(labels.cpu().numpy())"
   ]
  },
  {
   "cell_type": "markdown",
   "metadata": {},
   "source": [
    "## Calculate metrics"
   ]
  },
  {
   "cell_type": "code",
   "execution_count": 76,
   "metadata": {},
   "outputs": [],
   "source": [
    "accuracy = accuracy_score(true_labels, predictions)\n",
    "precision = precision_score(true_labels, predictions, average=None)\n",
    "recall = recall_score(true_labels, predictions, average=None)"
   ]
  },
  {
   "cell_type": "code",
   "execution_count": 77,
   "metadata": {},
   "outputs": [
    {
     "name": "stdout",
     "output_type": "stream",
     "text": [
      "Accuracy: 0.8412\n",
      "Precision: [0.82829504 0.74210077 0.8430622  0.88367347 0.92630502]\n",
      "Recall: [0.685 0.869 0.881 0.866 0.905]\n"
     ]
    }
   ],
   "source": [
    "print(f'Accuracy: {accuracy:.4f}')\n",
    "print(f'Precision: {precision}')\n",
    "print(f'Recall: {recall}')\n",
    "\n",
    "# Save metrics\n",
    "torch.save({'accuracy': accuracy, 'precision': precision.tolist(), 'recall': recall.tolist()}, 'metrics01.pth')"
   ]
  }
 ],
 "metadata": {
  "kernelspec": {
   "display_name": "base",
   "language": "python",
   "name": "python3"
  },
  "language_info": {
   "codemirror_mode": {
    "name": "ipython",
    "version": 3
   },
   "file_extension": ".py",
   "mimetype": "text/x-python",
   "name": "python",
   "nbconvert_exporter": "python",
   "pygments_lexer": "ipython3",
   "version": "3.11.7"
  }
 },
 "nbformat": 4,
 "nbformat_minor": 2
}
